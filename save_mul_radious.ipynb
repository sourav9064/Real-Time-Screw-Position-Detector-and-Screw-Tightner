{
 "cells": [
  {
   "cell_type": "code",
   "execution_count": 1,
   "metadata": {},
   "outputs": [],
   "source": [
    "import cv2\n",
    "import numpy as np\n",
    "from matplotlib import pyplot as plt\n",
    "import math\n",
    "import argparse\n",
    "import xlrd\n",
    "import xlutils\n",
    "from xlutils.copy import copy\n",
    "import xlwt\n",
    "from xlwt import Workbook \n",
    "import xlsxwriter\n",
    "import time\n"
   ]
  },
  {
   "cell_type": "code",
   "execution_count": 2,
   "metadata": {},
   "outputs": [
    {
     "data": {
      "text/plain": [
       "<matplotlib.image.AxesImage at 0x1b803ea2cf8>"
      ]
     },
     "execution_count": 2,
     "metadata": {},
     "output_type": "execute_result"
    },
    {
     "data": {
      "image/png": "[encoded data removed]",
      "text/plain": [
       "<Figure size 432x288 with 1 Axes>"
      ]
     },
     "metadata": {
      "needs_background": "light"
     },
     "output_type": "display_data"
    }
   ],
   "source": [
    "# Load original image \n",
    "image = cv2.imread(\"C:\\\\Users\\\\HP\\\\Project_AKG\\\\images\\\\table_mul_hole.png\")\n",
    "\n",
    "# Load image as greyscale \n",
    "gray = cv2.imread(\"C:\\\\Users\\\\HP\\\\Project_AKG\\\\images\\\\table_mul_hole.png\",0)\n",
    "\n",
    "# Values below 127 goes to 0 (black, everything above goes to 255 (white)\n",
    "ret,thresh = cv2.threshold(gray, 50, 255, cv2.THRESH_BINARY)\n",
    "\n",
    "cv2.imwrite('C:/Users/HP/Project_AKG/images/BNWimageMul.png',thresh)\n",
    "\n",
    "# Blur using 2 * 2 kernel. \n",
    "gray_blurred = cv2.blur(thresh, (2, 2)) \n",
    "plt.imshow(gray_blurred)"
   ]
  },
  {
   "cell_type": "code",
   "execution_count": null,
   "metadata": {},
   "outputs": [],
   "source": [
    "# Apply Hough transform on the blurred image. \n",
    "detected_circles = cv2.HoughCircles(gray_blurred,  \n",
    "                                   cv2.HOUGH_GRADIENT, 1, 30, param1 = 100, \n",
    "                                   param2 = 30, minRadius = 1, maxRadius = 1000)\n",
    "# Draw circles that are detected. \n",
    "if detected_circles is not None: \n",
    "# Convert the circle parameters a, b and r to integers. \n",
    "    detected_circles = np.uint16(np.around(detected_circles))\n",
    "    for pt in detected_circles[0, :]:\n",
    "        a, b, r = pt[0], pt[1], pt[2] \n",
    "# Draw the circumference of the circle. \n",
    "        cv2.circle(image, (a, b), r, (0, 255, 0), 2) \n",
    "        cv2.imshow(\"Detected Circle\", image) \n",
    "        print(a,b), print(\"Radious : %.0f\" %r)\n",
    "        cv2.waitKey(0) \n",
    "cv2.destroyAllWindows()"
   ]
  },
  {
   "cell_type": "code",
   "execution_count": null,
   "metadata": {},
   "outputs": [],
   "source": [
    "a.dtype()"
   ]
  },
  {
   "cell_type": "code",
   "execution_count": null,
   "metadata": {},
   "outputs": [],
   "source": [
    "def circle():\n",
    "    # Apply Hough transform on the blurred image. \n",
    "    detected_circles = cv2.HoughCircles(gray_blurred,  \n",
    "                                   cv2.HOUGH_GRADIENT, 1, 30, param1 = 100, \n",
    "                                   param2 = 30, minRadius = 1, maxRadius = 1000)\n",
    "# Draw circles that are detected. \n",
    "    if detected_circles is not None: \n",
    "# Convert the circle parameters a, b and r to integers. \n",
    "        detected_circles = np.uint16(np.around(detected_circles))\n",
    "        for pt in detected_circles[0, :]:\n",
    "            a, b, r = pt[0], pt[1], pt[2] \n",
    "# Draw the circumference of the circle.\n",
    "            cv2.circle(image, (a, b), 1, (0, 0, 255), 3)\n",
    "            cv2.circle(image, (a, b), r, (0, 255, 0), 2)\n",
    "            a1 = int(a)\n",
    "            b1 = int(b)\n",
    "            r1 = int(r)\n",
    "            cv2.imshow(\"Detected Circle\", image) \n",
    "            print(a1,b1), print(\"Radious : %.0f\" %r1)\n",
    "            cv2.waitKey(0) \n",
    "    cv2.destroyAllWindows()"
   ]
  },
  {
   "cell_type": "code",
   "execution_count": null,
   "metadata": {},
   "outputs": [],
   "source": [
    "circle()"
   ]
  },
  {
   "cell_type": "code",
   "execution_count": null,
   "metadata": {},
   "outputs": [],
   "source": [
    "\n",
    "#a1 = int(a)\n",
    "#print(a1)\n",
    "#b1 = int(b)\n",
    "#print(b1)\n",
    "#r1 = int(r)\n",
    "#print(r1)"
   ]
  },
  {
   "cell_type": "code",
   "execution_count": null,
   "metadata": {},
   "outputs": [],
   "source": [
    "def addToExcel(sheet):\n",
    "    \n",
    "    \n",
    "    sheet.write(counter, 0, counter)\n",
    "    sheet.write(counter, 1, a1)\n",
    "    sheet.write(counter, 2, b1)\n",
    "    sheet.write(counter, 3, r1)"
   ]
  },
  {
   "cell_type": "code",
   "execution_count": null,
   "metadata": {},
   "outputs": [],
   "source": [
    "rb = xlrd.open_workbook(\"Excel_01.xls\")\n",
    "name = rb.sheet_names()[len(rb.sheets())-1]\n",
    "wb = copy(rb)\n",
    "\n",
    "if time.strftime(\"%d %m %Y\") != name:\n",
    "    sheet = wb.add_sheet(time.strftime(\"%d %m %Y\"))\n",
    "    sheet.write(0, 0, 'Circle No')\n",
    "    sheet.write(0, 1, 'X co-ordinate')\n",
    "    sheet.write(0, 2, 'Y co-ordinate')\n",
    "    sheet.write(0, 3, 'Radious')\n",
    "    addToExcel(sheet)\n",
    "    counter = 1\n",
    "else:\n",
    "    sheet = wb.get_sheet(len(rb.sheets())-1)\n",
    "    s = rb.sheet_by_name(sheet.name)\n",
    "    counter = s.nrows\n",
    "    addToExcel(sheet)\n",
    "counter += 1\n",
    "wb.save(\"Excel_01.xls\")"
   ]
  },
  {
   "cell_type": "code",
   "execution_count": null,
   "metadata": {},
   "outputs": [],
   "source": []
  },
  {
   "cell_type": "code",
   "execution_count": null,
   "metadata": {},
   "outputs": [],
   "source": []
  },
  {
   "cell_type": "code",
   "execution_count": null,
   "metadata": {},
   "outputs": [],
   "source": []
  }
 ],
 "metadata": {
  "kernelspec": {
   "display_name": "Python 3",
   "language": "python",
   "name": "python3"
  },
  "language_info": {
   "codemirror_mode": {
    "name": "ipython",
    "version": 3
   },
   "file_extension": ".py",
   "mimetype": "text/x-python",
   "name": "python",
   "nbconvert_exporter": "python",
   "pygments_lexer": "ipython3",
   "version": "3.7.3"
  }
 },
 "nbformat": 4,
 "nbformat_minor": 2
}
