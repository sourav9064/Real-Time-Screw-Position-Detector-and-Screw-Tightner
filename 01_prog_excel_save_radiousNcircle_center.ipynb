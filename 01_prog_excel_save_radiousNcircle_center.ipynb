{
 "cells": [
  {
   "cell_type": "code",
   "execution_count": null,
   "metadata": {},
   "outputs": [],
   "source": [
    "import cv2\n",
    "import numpy as np\n",
    "from matplotlib import pyplot as plt\n",
    "import math\n",
    "import argparse\n",
    "import xlrd\n",
    "import xlutils\n",
    "from xlutils.copy import copy\n",
    "import xlwt\n",
    "from xlwt import Workbook \n",
    "import xlsxwriter\n",
    "import time\n"
   ]
  },
  {
   "cell_type": "code",
   "execution_count": null,
   "metadata": {},
   "outputs": [],
   "source": [
    "#Clicking a picture of the table\n",
    "camera = cv2.VideoCapture(0)\n",
    "return_value, image = camera.read()\n",
    "cv2.imwrite('table_mul_hole.png', image)\n",
    "cv2.imshow('table_mul_hole.png', image)\n",
    "cv2.waitKey(0) \n",
    "\n",
    "cv2.destroyAllWindows()\n",
    "del(camera)"
   ]
  },
  {
   "cell_type": "code",
   "execution_count": null,
   "metadata": {},
   "outputs": [],
   "source": [
    "# Load original image \n",
    "image = cv2.imread(\"C:\\\\Users\\\\HP\\\\Project_AKG\\\\images\\\\table_mul_hole.png\")\n",
    "# Load image as greyscale \n",
    "gray = cv2.imread(\"C:\\\\Users\\\\HP\\\\Project_AKG\\\\images\\\\table_mul_hole.png\",0)\n",
    "# Values below 127 goes to 0 (black, everything above goes to 255 (white)\n",
    "ret,thresh = cv2.threshold(gray, 50, 255, cv2.THRESH_BINARY)\n",
    "cv2.imwrite('C:/Users/HP/Project_AKG/images/BNWimageMul.png',thresh)\n",
    "# Blur using 2 * 2 kernel. \n",
    "gray_blurred = cv2.blur(thresh, (2, 2)) \n",
    "#plt.imshow(gray_blurred)\n",
    "#cv2.imwrite('C:\\\\Users\\\\HP\\\\Project_AKG\\\\output\\\\Presized.png',gray_blurred)\n",
    "\n",
    "cv2.imshow('Original',image)\n",
    "cv2.waitKey(0) \n",
    "cv2.imshow('Gray',gray)\n",
    "cv2.waitKey(0) \n",
    "cv2.imshow('BlackNwhite',thresh)\n",
    "cv2.waitKey(0) \n",
    "cv2.imshow('Presized',gray_blurred)\n",
    "cv2.waitKey(0) \n",
    "\n",
    "cv2.destroyAllWindows()"
   ]
  },
  {
   "cell_type": "code",
   "execution_count": null,
   "metadata": {},
   "outputs": [],
   "source": [
    "# Apply Hough transform on the blurred image. \n",
    "detected_circles = cv2.HoughCircles(gray_blurred,  \n",
    "                                   cv2.HOUGH_GRADIENT, 1, 30, param1 = 100, \n",
    "                                   param2 = 30, minRadius = 1, maxRadius = 1000)\n",
    "\n",
    "rb = xlrd.open_workbook(\"C:\\\\Users\\\\HP\\\\Project_AKG\\\\Excel_save_radiousNcircle_center.xls\")\n",
    "name = rb.sheet_names()[len(rb.sheets())-1]\n",
    "wb = copy(rb)\n",
    "sheet = wb.add_sheet(time.strftime(\"%d %m %Y\"))\n",
    "sheet.write(0, 0, 'Circle No')\n",
    "sheet.write(0, 1, 'Radious')\n",
    "sheet.write(0, 2, 'Center X')\n",
    "sheet.write(0, 3, 'Center Y')\n",
    "sheet.write(0, 4, 'Time')\n",
    "counter = 1"
   ]
  },
  {
   "cell_type": "code",
   "execution_count": null,
   "metadata": {},
   "outputs": [],
   "source": [
    "# Draw circles that are detected. \n",
    "if detected_circles is not None: \n",
    "# Convert the circle parameters a, b and r to integers. \n",
    "    detected_circles = np.uint16(np.around(detected_circles)) \n",
    "    for pt in detected_circles[0, :]:\n",
    "        a, b, r = pt[0], pt[1], pt[2] \n",
    "        a1 = int(a)\n",
    "        b1 = int(b)\n",
    "        r1 = int(r)\n",
    "    \n",
    "        sheet.write(counter, 0, counter)\n",
    "        sheet.write(counter, 1, r1)\n",
    "        sheet.write(counter, 2, a1)\n",
    "        sheet.write(counter, 3, b1)\n",
    "        sheet.write(counter, 4, time.strftime(\"%H:%M:%S\"))\n",
    "        counter += 1    \n",
    "# Draw the circumference of the circle.\n",
    "        cv2.circle(image, (a, b), 1, (0, 0, 255), 3) \n",
    "        cv2.circle(image, (a, b), r, (0, 255, 0), 2) \n",
    "        cv2.imshow(\"Detected Circle\", image) \n",
    "        #print(\"Center X\", a1), print(\"Center Y\", b1) \n",
    "        print(a1,b1), \n",
    "        print(\"Radious : %.0f\" %r1)\n",
    "        cv2.waitKey(0) \n",
    "        \n",
    "wb.save(\"C:\\\\Users\\\\HP\\\\Project_AKG\\\\Excel_save_radiousNcircle_center.xls\")\n",
    "cv2.destroyAllWindows()"
   ]
  },
  {
   "cell_type": "code",
   "execution_count": null,
   "metadata": {},
   "outputs": [],
   "source": []
  },
  {
   "cell_type": "code",
   "execution_count": null,
   "metadata": {},
   "outputs": [],
   "source": []
  },
  {
   "cell_type": "code",
   "execution_count": null,
   "metadata": {},
   "outputs": [],
   "source": []
  },
  {
   "cell_type": "code",
   "execution_count": null,
   "metadata": {},
   "outputs": [],
   "source": []
  },
  {
   "cell_type": "code",
   "execution_count": null,
   "metadata": {},
   "outputs": [],
   "source": []
  },
  {
   "cell_type": "code",
   "execution_count": null,
   "metadata": {},
   "outputs": [],
   "source": []
  },
  {
   "cell_type": "code",
   "execution_count": null,
   "metadata": {},
   "outputs": [],
   "source": []
  }
 ],
 "metadata": {
  "kernelspec": {
   "display_name": "Python 3",
   "language": "python",
   "name": "python3"
  },
  "language_info": {
   "codemirror_mode": {
    "name": "ipython",
    "version": 3
   },
   "file_extension": ".py",
   "mimetype": "text/x-python",
   "name": "python",
   "nbconvert_exporter": "python",
   "pygments_lexer": "ipython3",
   "version": "3.7.3"
  }
 },
 "nbformat": 4,
 "nbformat_minor": 2
}
