{
 "cells": [
  {
   "cell_type": "code",
   "execution_count": 1,
   "metadata": {},
   "outputs": [],
   "source": [
    "import cv2\n",
    "import numpy as np\n",
    "from matplotlib import pyplot as plt\n",
    "import math\n",
    "import argparse\n",
    "import xlrd\n",
    "import xlutils\n",
    "from xlutils.copy import copy\n",
    "import xlwt\n",
    "from xlwt import Workbook \n",
    "import xlsxwriter\n",
    "import time\n",
    "from datetime import date\n",
    "import pandas as pd\n"
   ]
  },
  {
   "cell_type": "code",
   "execution_count": 2,
   "metadata": {},
   "outputs": [
    {
     "name": "stdout",
     "output_type": "stream",
     "text": [
      "d1 = 26 12 2019\n"
     ]
    }
   ],
   "source": [
    "today = date.today()\n",
    "# dd/mm/YY\n",
    "d1 = today.strftime(\"%d %m %Y\")\n",
    "print(\"d1 =\", d1)"
   ]
  },
  {
   "cell_type": "code",
   "execution_count": 3,
   "metadata": {},
   "outputs": [],
   "source": [
    "def report_diff(x):\n",
    "    return x[0] if x[0] == x[1] else '{}  {}'.format(*x)"
   ]
  },
  {
   "cell_type": "code",
   "execution_count": 4,
   "metadata": {},
   "outputs": [],
   "source": [
    "df1 = pd.read_excel('C:\\\\Users\\\\HP\\\\Project_AKG\\\\Excel_save_radiousNcircle_center.xls', d1)\n",
    "df2 = pd.read_excel('C:\\\\Users\\\\HP\\\\Project_AKG\\\\Excel_radiousNscrewNo.xls', 'Sheet1')"
   ]
  },
  {
   "cell_type": "code",
   "execution_count": 5,
   "metadata": {},
   "outputs": [],
   "source": [
    "# Make sure we order by circle number so the comparisons work\n",
    "df1.sort_values(by=['Circle No', 'Radious'])\n",
    "df1=df1.reindex()\n",
    "df2.sort_values(by=['Circle No', 'Radious'])\n",
    "df2=df2.reindex()"
   ]
  },
  {
   "cell_type": "code",
   "execution_count": 6,
   "metadata": {},
   "outputs": [
    {
     "name": "stderr",
     "output_type": "stream",
     "text": [
      "C:\\Anaconda3\\envs\\opencv\\lib\\site-packages\\IPython\\core\\interactiveshell.py:3296: FutureWarning: \n",
      "Panel is deprecated and will be removed in a future version.\n",
      "The recommended way to represent these types of 3-dimensional data are with a MultiIndex on a DataFrame, via the Panel.to_frame() method\n",
      "Alternatively, you can use the xarray package http://xarray.pydata.org/en/stable/.\n",
      "Pandas provides a `.to_xarray()` method to help automate this conversion.\n",
      "\n",
      "  exec(code_obj, self.user_global_ns, self.user_ns)\n",
      "C:\\Anaconda3\\envs\\opencv\\lib\\site-packages\\pandas\\core\\panel.py:155: FutureWarning: Sorting because non-concatenation axis is not aligned. A future version\n",
      "of pandas will change to not sort by default.\n",
      "\n",
      "To accept the future behavior, pass 'sort=False'.\n",
      "\n",
      "To retain the current behavior and silence the warning, pass 'sort=True'.\n",
      "\n",
      "  minor_axis=minor_axis, copy=copy, dtype=dtype)\n"
     ]
    }
   ],
   "source": [
    "# Create a panel of the two dataframes\n",
    "diff_panel = pd.Panel(dict(df1=df1,df2=df2))"
   ]
  },
  {
   "cell_type": "code",
   "execution_count": 7,
   "metadata": {},
   "outputs": [],
   "source": [
    "#Apply the diff function\n",
    "diff_output = diff_panel.apply(report_diff, axis=0)"
   ]
  },
  {
   "cell_type": "code",
   "execution_count": 8,
   "metadata": {},
   "outputs": [],
   "source": [
    "diff_output.to_excel('C:\\\\Users\\\\HP\\\\Project_AKG\\\\Excel_compareNsave_screwNoNcircle_center.xls',\n",
    "                     index=False,columns=[\"Part No\",\"Center X\",\"Center Y\"])"
   ]
  },
  {
   "cell_type": "code",
   "execution_count": null,
   "metadata": {},
   "outputs": [],
   "source": []
  },
  {
   "cell_type": "code",
   "execution_count": 9,
   "metadata": {},
   "outputs": [
    {
     "name": "stdout",
     "output_type": "stream",
     "text": [
      "[INFO] Opening file....\n",
      "         Part No  Center X  Center Y\n",
      "0    HNTAU-PL-M8       276       278\n",
      "1   HNTAU-PL-M10       456       122\n",
      "2     HNTAU-PL-6       446       444\n",
      "3     HNTK-PL-M4        90       116\n",
      "4     HNTK-PL-M6       188       486\n",
      "[INFO] Saving file ...\n",
      "[INFO] File saved ...\n"
     ]
    }
   ],
   "source": [
    "#find and replace a word in an excel file\n",
    "\n",
    "import os \n",
    "import pandas as pd\n",
    "import sys\n",
    "\n",
    "escape_dict={'\\a':r'\\a',\n",
    "           '\\b':r'\\b',\n",
    "           '\\c':r'\\c',\n",
    "           '\\f':r'\\f',\n",
    "           '\\n':r'\\n',\n",
    "           '\\r':r'\\r',\n",
    "           '\\t':r'\\t',\n",
    "           '\\v':r'\\v',\n",
    "           '\\'':r'\\'',\n",
    "           '\\\"':r'\\\"',\n",
    "           '\\0':r'\\0',\n",
    "           '\\1':r'\\1',\n",
    "           '\\2':r'\\2',\n",
    "           '\\3':r'\\3',\n",
    "           '\\4':r'\\4',\n",
    "           '\\5':r'\\5',\n",
    "           '\\6':r'\\6',\n",
    "           '\\7':r'\\7',\n",
    "           '\\8':r'\\8',\n",
    "           '\\9':r'\\9'}\n",
    "\n",
    "def raw(text):\n",
    "    \"\"\"Returns a raw string representation of text\"\"\"\n",
    "    new_string=''\n",
    "    for char in text:\n",
    "        try: new_string+=escape_dict[char]\n",
    "        except KeyError: new_string+=char  \n",
    "    return new_string\n",
    "\n",
    "def replaceNAN(fileName, filePath = None):\n",
    "    \"\"\" replaces 'nan' in an excel file and save it\"\"\"\n",
    "    try:\n",
    "        if (filePath):\n",
    "            filePath = raw(filePath)\n",
    "            # print(filePath)\n",
    "            separator = os.path.sep\n",
    "            if separator != '/':\n",
    "                # filePath = os.path.normpath(filePath)\n",
    "                filePath = filePath.replace(separator, \"/\")\n",
    "        else:\n",
    "            filePath = os.getcwd()\n",
    "        \n",
    "        #print(\"[INFO] File name:\", fileName)\n",
    "        #print(\"[INFO] Absolute path (pythonic):\", filePath)\n",
    "        filePath = os.path.join(filePath, fileName)\n",
    "        print(\"[INFO] Opening file....\")\n",
    "\n",
    "        df = pd.read_excel(filePath, index_col=None)\n",
    "        df = df.replace({'nan ': '', ' nan': ''}, regex=True)\n",
    "        df[[\"Center X\", \"Center Y\"]] = df[[\"Center X\", \"Center Y\"]].apply(pd.to_numeric)\n",
    "        print(df.head())\n",
    "        #print(\"[INFO] Replacing Done ...\")\n",
    "        print(\"[INFO] Saving file ...\")\n",
    "        if os.path.exists( os.path.join(os.getcwd(), \"output.xlsx\")):\n",
    "            os.remove( os.path.join(os.getcwd(), \"output.xlsx\"))\n",
    "        df.to_excel(\"output.xlsx\", index = False) \n",
    "        # df.to_excel(fileName) \n",
    "        print(\"[INFO] File saved ...\")\n",
    "    except Exception as e:\n",
    "        print(\"[ERROR] Something went wrong!! Could not complete task\\n\")\n",
    "        print(e)\n",
    "    else:\n",
    "        pass\n",
    "    finally:\n",
    "        if os.path.exists( os.path.join(os.getcwd(), \"output.xlsx\")):\n",
    "            if os.path.exists( os.path.join(os.getcwd(), fileName)):\n",
    "                os.remove( os.path.join(os.getcwd(), fileName))\n",
    "            if os.path.exists( os.path.join(os.getcwd(), os.path.splitext(fileName)[0] + \".xlsx\")):\n",
    "                os.remove( os.path.join(os.getcwd(), os.path.splitext(fileName)[0] + \".xlsx\"))\n",
    "            os.rename(\"output.xlsx\", os.path.splitext(fileName)[0] + \".xlsx\") \n",
    "\n",
    "replaceNAN(\"Excel_compareNsave_screwNoNcircle_center.xls\")"
   ]
  },
  {
   "cell_type": "code",
   "execution_count": null,
   "metadata": {},
   "outputs": [],
   "source": []
  },
  {
   "cell_type": "code",
   "execution_count": null,
   "metadata": {},
   "outputs": [],
   "source": []
  },
  {
   "cell_type": "code",
   "execution_count": 10,
   "metadata": {},
   "outputs": [],
   "source": [
    "#Convert xlsx to xls\n",
    "\n",
    "import pandas as pd\n",
    "import os\n",
    "import glob\n",
    "\n",
    "source=\"C:\\\\Users\\\\HP\\\\Project_AKG\\\\\"\n",
    "dest='C:\\\\Users\\\\HP\\\\Project_AKG\\\\'\n",
    "os.chdir(source)\n",
    "\n",
    "for file in glob.glob(\"Excel_compareNsave_screwNoNcircle_center.xlsx\"):\n",
    "    df = pd.read_excel(file)\n",
    "    newCSV = df.to_csv(dest+'Excel_compareNsave_screwNoNcircle_center.csv', index=False)\n",
    "    os.remove(file)\n",
    "for new_file in glob.glob(\"Excel_compareNsave_screwNoNcircle_center.csv\"):\n",
    "    read_file = pd.read_csv (\"Excel_compareNsave_screwNoNcircle_center.csv\")\n",
    "    read_file.to_excel (dest+'Excel_compareNsave_screwNoNcircle_center.xls', index = None, header=True)\n",
    "    os.remove(new_file)\n"
   ]
  },
  {
   "cell_type": "code",
   "execution_count": null,
   "metadata": {},
   "outputs": [],
   "source": []
  }
 ],
 "metadata": {
  "kernelspec": {
   "display_name": "Python 3",
   "language": "python",
   "name": "python3"
  },
  "language_info": {
   "codemirror_mode": {
    "name": "ipython",
    "version": 3
   },
   "file_extension": ".py",
   "mimetype": "text/x-python",
   "name": "python",
   "nbconvert_exporter": "python",
   "pygments_lexer": "ipython3",
   "version": "3.7.3"
  }
 },
 "nbformat": 4,
 "nbformat_minor": 2
}
