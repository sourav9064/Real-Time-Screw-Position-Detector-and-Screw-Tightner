{
 "cells": [
  {
   "cell_type": "raw",
   "metadata": {},
   "source": [
    "Detect Multiple Holes"
   ]
  },
  {
   "cell_type": "code",
   "execution_count": 1,
   "metadata": {},
   "outputs": [],
   "source": [
    "import cv2 as cv\n",
    "import numpy as np\n",
    "from matplotlib import pyplot as plt\n",
    "import math\n",
    "import argparse\n"
   ]
  },
  {
   "cell_type": "code",
   "execution_count": 2,
   "metadata": {},
   "outputs": [],
   "source": [
    "# Load original image \n",
    "image = cv.imread(\"C:\\\\Users\\\\HP\\\\Project_AKG\\\\images\\\\table_mul_hole.png\")\n",
    "cv.imshow('Original',image)\n",
    "\n",
    "# Load image as greyscale \n",
    "gray = cv.imread(\"C:\\\\Users\\\\HP\\\\Project_AKG\\\\images\\\\table_mul_hole.png\",0)\n",
    "cv.imshow('Gray',gray)\n",
    "\n",
    "# Values below 127 goes to 0 (black, everything above goes to 255 (white)\n",
    "ret,thresh = cv.threshold(gray, 50, 255, cv.THRESH_BINARY)\n",
    "cv.imshow('blackNwhite', thresh)\n",
    "\n",
    "cv.imwrite('C:/Users/HP/Project_AKG/images/BNWimageMul.png',thresh)\n",
    "\n",
    "cv.waitKey(0) \n",
    "\n",
    "cv.destroyAllWindows()"
   ]
  },
  {
   "cell_type": "code",
   "execution_count": 3,
   "metadata": {},
   "outputs": [
    {
     "data": {
      "text/plain": [
       "<matplotlib.image.AxesImage at 0x24899917d68>"
      ]
     },
     "execution_count": 3,
     "metadata": {},
     "output_type": "execute_result"
    },
    {
     "data": {
      "image/png": "[encoded data removed]",
      "text/plain": [
       "<Figure size 432x288 with 1 Axes>"
      ]
     },
     "metadata": {
      "needs_background": "light"
     },
     "output_type": "display_data"
    }
   ],
   "source": [
    "plt.imshow(thresh)"
   ]
  },
  {
   "cell_type": "code",
   "execution_count": 4,
   "metadata": {},
   "outputs": [
    {
     "data": {
      "text/plain": [
       "<matplotlib.image.AxesImage at 0x24899ded9b0>"
      ]
     },
     "execution_count": 4,
     "metadata": {},
     "output_type": "execute_result"
    },
    {
     "data": {
      "image/png": "[encoded data removed]",
      "text/plain": [
       "<Figure size 432x288 with 1 Axes>"
      ]
     },
     "metadata": {
      "needs_background": "light"
     },
     "output_type": "display_data"
    }
   ],
   "source": [
    "# Blur using 2 * 2 kernel. \n",
    "gray_blurred = cv.blur(thresh, (2, 2)) \n",
    "plt.imshow(gray_blurred)"
   ]
  },
  {
   "cell_type": "code",
   "execution_count": 5,
   "metadata": {},
   "outputs": [],
   "source": [
    "# Apply Hough transform on the blurred image. \n",
    "detected_circles = cv.HoughCircles(gray_blurred,  \n",
    "                   cv.HOUGH_GRADIENT, 1, 30, param1 = 100, \n",
    "               param2 = 30, minRadius = 1, maxRadius = 1000) "
   ]
  },
  {
   "cell_type": "code",
   "execution_count": null,
   "metadata": {},
   "outputs": [
    {
     "name": "stdout",
     "output_type": "stream",
     "text": [
      "276 278\n",
      "Radious : 124\n",
      "456 122\n",
      "Radious : 61\n",
      "446 444\n",
      "Radious : 47\n",
      "90 116\n",
      "Radious : 33\n",
      "188 486\n",
      "Radious : 29\n"
     ]
    }
   ],
   "source": [
    "# Draw circles that are detected. \n",
    "if detected_circles is not None: \n",
    "# Convert the circle parameters a, b and r to integers. \n",
    "    detected_circles = np.uint16(np.around(detected_circles)) \n",
    "    for pt in detected_circles[0, :]:\n",
    "        a, b, r = pt[0], pt[1], pt[2] \n",
    "# Draw the circumference of the circle. \n",
    "        cv.circle(image, (a, b), r, (0, 255, 0), 2) \n",
    "# Draw a small circle (of radius 1) to show the center. \n",
    "        #cv.circle(image, (a, b), 1, (0, 0, 255), 3) \n",
    "        cv.imshow(\"Detected Circle\", image) \n",
    "        print(a,b), print(\"Radious : %.0f\" %r)\n",
    "        cv.waitKey(0) \n",
    "cv.destroyAllWindows()"
   ]
  },
  {
   "cell_type": "code",
   "execution_count": null,
   "metadata": {},
   "outputs": [],
   "source": []
  },
  {
   "cell_type": "code",
   "execution_count": null,
   "metadata": {},
   "outputs": [],
   "source": []
  }
 ],
 "metadata": {
  "kernelspec": {
   "display_name": "Python 3",
   "language": "python",
   "name": "python3"
  },
  "language_info": {
   "codemirror_mode": {
    "name": "ipython",
    "version": 3
   },
   "file_extension": ".py",
   "mimetype": "text/x-python",
   "name": "python",
   "nbconvert_exporter": "python",
   "pygments_lexer": "ipython3",
   "version": "3.7.3"
  }
 },
 "nbformat": 4,
 "nbformat_minor": 2
}
