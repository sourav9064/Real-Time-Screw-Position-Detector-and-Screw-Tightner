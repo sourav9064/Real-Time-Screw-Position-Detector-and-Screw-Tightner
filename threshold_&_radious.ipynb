{
 "cells": [
  {
   "cell_type": "raw",
   "metadata": {},
   "source": [
    "Thresholding"
   ]
  },
  {
   "cell_type": "code",
   "execution_count": null,
   "metadata": {},
   "outputs": [],
   "source": [
    "import cv2\n",
    "import numpy as np\n",
    "from matplotlib import pyplot as plt"
   ]
  },
  {
   "cell_type": "code",
   "execution_count": null,
   "metadata": {},
   "outputs": [],
   "source": [
    "# Load original image \n",
    "image = cv2.imread(\"C:\\\\Users\\\\HP\\\\Project_AKG\\\\images\\\\table_hole.png\")\n",
    "cv2.imshow('Original',image)\n",
    "\n",
    "# Load image as greyscale \n",
    "gray = cv2.imread(\"C:\\\\Users\\\\HP\\\\Project_AKG\\\\images\\\\table_hole.png\",0)\n",
    "cv2.imshow('Gray',gray)\n",
    "\n",
    "# Values below 127 goes to 0 (black, everything above goes to 255 (white)\n",
    "ret,thresh = cv2.threshold(gray, 50, 255, cv2.THRESH_BINARY)\n",
    "cv2.imshow('blackNwhite', thresh)\n",
    "\n",
    "cv2.imwrite('C:/Users/HP/Project_AKG/images/BNWimage.png',thresh)\n",
    "\n",
    "cv2.waitKey(0) \n",
    "\n",
    "cv2.destroyAllWindows()"
   ]
  },
  {
   "cell_type": "code",
   "execution_count": null,
   "metadata": {},
   "outputs": [],
   "source": []
  },
  {
   "cell_type": "raw",
   "metadata": {},
   "source": [
    "Detection of Center and Radious"
   ]
  },
  {
   "cell_type": "code",
   "execution_count": 9,
   "metadata": {},
   "outputs": [
    {
     "data": {
      "text/plain": [
       "<matplotlib.image.AxesImage at 0x1a73bc28160>"
      ]
     },
     "execution_count": 9,
     "metadata": {},
     "output_type": "execute_result"
    },
    {
     "data": {
      "image/png": "[encoded data removed]",
      "text/plain": [
       "<Figure size 432x288 with 1 Axes>"
      ]
     },
     "metadata": {
      "needs_background": "light"
     },
     "output_type": "display_data"
    }
   ],
   "source": [
    "import cv2 as cv\n",
    "import numpy as np\n",
    "from matplotlib import pyplot as plt\n",
    "import math\n",
    "\n",
    "#img = cv.imread('C:/Users/HP/Project_AKG/images/circle.png',0)\n",
    "img = cv.imread('C:/Users/HP/Project_AKG/images/BNWimage.png',0)\n",
    "plt.imshow(img)"
   ]
  },
  {
   "cell_type": "code",
   "execution_count": 10,
   "metadata": {},
   "outputs": [
    {
     "name": "stdout",
     "output_type": "stream",
     "text": [
      "276\n",
      "276\n",
      "Perimeter Of a Circle = 825\n",
      "Radious Of a Circle = 131\n"
     ]
    }
   ],
   "source": [
    "ret,thresh = cv.threshold(img,127,255,0)\n",
    "im2,contours,hierarchy = cv.findContours(thresh, 1, 2)\n",
    "cnt = contours[0]\n",
    "M = cv.moments(cnt)\n",
    "\n",
    "cx = int(M['m10']/M['m00'])\n",
    "cy = int(M['m01']/M['m00'])\n",
    "print(cx), print(cy)\n",
    "\n",
    "perimeter = cv.arcLength(cnt,True)\n",
    "print(\"Perimeter Of a Circle = %.0f\" %perimeter)\n",
    "\n",
    "pi = 3.14\n",
    "radious = perimeter/(2*pi)\n",
    "print(\"Radious Of a Circle = %.0f\" %radious)"
   ]
  },
  {
   "cell_type": "code",
   "execution_count": null,
   "metadata": {},
   "outputs": [],
   "source": []
  }
 ],
 "metadata": {
  "kernelspec": {
   "display_name": "Python 3",
   "language": "python",
   "name": "python3"
  },
  "language_info": {
   "codemirror_mode": {
    "name": "ipython",
    "version": 3
   },
   "file_extension": ".py",
   "mimetype": "text/x-python",
   "name": "python",
   "nbconvert_exporter": "python",
   "pygments_lexer": "ipython3",
   "version": "3.7.3"
  }
 },
 "nbformat": 4,
 "nbformat_minor": 2
}
