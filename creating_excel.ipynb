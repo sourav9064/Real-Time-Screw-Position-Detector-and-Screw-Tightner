{
 "cells": [
  {
   "cell_type": "code",
   "execution_count": 2,
   "metadata": {},
   "outputs": [],
   "source": [
    "import xlsxwriter\n",
    "\n",
    "workbook = xlsxwriter.Workbook('C:\\\\Users\\\\HP\\\\Project_AKG\\\\Excel_compareNsave_screwNoNcircle_center.xls')\n",
    "#workbook = xlsxwriter.Workbook('Excel_01.xlsx')\n",
    "#workbook = xlsxwriter.Workbook('Excel_new_04.csv')\n",
    "worksheet = workbook.add_worksheet()\n",
    "\n",
    "workbook.close()"
   ]
  },
  {
   "cell_type": "code",
   "execution_count": null,
   "metadata": {},
   "outputs": [],
   "source": []
  }
 ],
 "metadata": {
  "kernelspec": {
   "display_name": "Python 3",
   "language": "python",
   "name": "python3"
  },
  "language_info": {
   "codemirror_mode": {
    "name": "ipython",
    "version": 3
   },
   "file_extension": ".py",
   "mimetype": "text/x-python",
   "name": "python",
   "nbconvert_exporter": "python",
   "pygments_lexer": "ipython3",
   "version": "3.7.3"
  }
 },
 "nbformat": 4,
 "nbformat_minor": 2
}
